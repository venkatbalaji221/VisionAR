{
 "cells": [
  {
   "cell_type": "code",
   "execution_count": 41,
   "metadata": {},
   "outputs": [],
   "source": [
    "import numpy as np"
   ]
  },
  {
   "source": [
    "npz_data = np.load(\"./MyWebcamCalibData.npz\")"
   ],
   "cell_type": "code",
   "metadata": {},
   "execution_count": 42,
   "outputs": []
  },
  {
   "cell_type": "code",
   "execution_count": 43,
   "metadata": {},
   "outputs": [
    {
     "output_type": "execute_result",
     "data": {
      "text/plain": [
       "['mtx', 'dist', 'rvecs', 'tvecs']"
      ]
     },
     "metadata": {},
     "execution_count": 43
    }
   ],
   "source": [
    "npz_data.files"
   ]
  },
  {
   "cell_type": "code",
   "execution_count": 44,
   "metadata": {},
   "outputs": [
    {
     "output_type": "stream",
     "name": "stdout",
     "text": [
      "<class 'numpy.ndarray'>\ndata type of a =float32\n[[569.3313    0.      326.86475]\n [  0.      567.715   238.67073]\n [  0.        0.        1.     ]]\n"
     ]
    }
   ],
   "source": [
    "a = np.float32(npz_data[\"mtx\"])\n",
    "print(type(a))\n",
    "print(\"data type of a ={}\".format(a.dtype))\n",
    "print(a)"
   ]
  },
  {
   "cell_type": "code",
   "execution_count": 45,
   "metadata": {},
   "outputs": [
    {
     "output_type": "stream",
     "name": "stdout",
     "text": [
      "[716.2257605610685, 0.0, 809.340956752432, 0.0, 716.2257605610685, 384.43357542338293, 0.0, 0.0, 1.0]\n"
     ]
    }
   ],
   "source": [
    "import yaml\n",
    "with open(\"./MyCameraConfig.yml\") as f:\n",
    "    data = yaml.load(f, Loader=yaml.FullLoader)\n",
    "    print(data['camera_matrix']['data'])"
   ]
  },
  {
   "cell_type": "markdown",
   "metadata": {},
   "source": [
    "### Code explanation related to np package"
   ]
  },
  {
   "cell_type": "code",
   "execution_count": 46,
   "metadata": {},
   "outputs": [
    {
     "output_type": "stream",
     "name": "stdout",
     "text": [
      "shape:(63, 3)\n[[0. 0. 0.]\n [0. 0. 0.]\n [0. 0. 0.]\n [0. 0. 0.]\n [0. 0. 0.]\n [0. 0. 0.]\n [0. 0. 0.]\n [0. 0. 0.]\n [0. 0. 0.]\n [0. 0. 0.]\n [0. 0. 0.]\n [0. 0. 0.]\n [0. 0. 0.]\n [0. 0. 0.]\n [0. 0. 0.]\n [0. 0. 0.]\n [0. 0. 0.]\n [0. 0. 0.]\n [0. 0. 0.]\n [0. 0. 0.]\n [0. 0. 0.]\n [0. 0. 0.]\n [0. 0. 0.]\n [0. 0. 0.]\n [0. 0. 0.]\n [0. 0. 0.]\n [0. 0. 0.]\n [0. 0. 0.]\n [0. 0. 0.]\n [0. 0. 0.]\n [0. 0. 0.]\n [0. 0. 0.]\n [0. 0. 0.]\n [0. 0. 0.]\n [0. 0. 0.]\n [0. 0. 0.]\n [0. 0. 0.]\n [0. 0. 0.]\n [0. 0. 0.]\n [0. 0. 0.]\n [0. 0. 0.]\n [0. 0. 0.]\n [0. 0. 0.]\n [0. 0. 0.]\n [0. 0. 0.]\n [0. 0. 0.]\n [0. 0. 0.]\n [0. 0. 0.]\n [0. 0. 0.]\n [0. 0. 0.]\n [0. 0. 0.]\n [0. 0. 0.]\n [0. 0. 0.]\n [0. 0. 0.]\n [0. 0. 0.]\n [0. 0. 0.]\n [0. 0. 0.]\n [0. 0. 0.]\n [0. 0. 0.]\n [0. 0. 0.]\n [0. 0. 0.]\n [0. 0. 0.]\n [0. 0. 0.]]\n"
     ]
    }
   ],
   "source": [
    "## Object point creation step\n",
    "import numpy as np\n",
    "objp = np.zeros((9 * 7, 3), np.float32)\n",
    "print(\"shape:{}\".format(objp.shape))\n",
    "print(objp)"
   ]
  },
  {
   "cell_type": "markdown",
   "metadata": {},
   "source": [
    "Look the image below to see the np.mgrid explanation. _The dimensions and number of the output arrays are equal to the number of indexing dimensions_. If the step length is not a complex number, then the stop is not inclusive.\n",
    "\n",
    "![np.mgrid](./DocsExplanation/numpy-mgrid-function-image-1.png)"
   ]
  },
  {
   "cell_type": "code",
   "execution_count": 47,
   "metadata": {},
   "outputs": [
    {
     "output_type": "execute_result",
     "data": {
      "text/plain": [
       "array([[[0, 0, 0, 0],\n",
       "        [1, 1, 1, 1],\n",
       "        [2, 2, 2, 2],\n",
       "        [3, 3, 3, 3]],\n",
       "\n",
       "       [[0, 1, 2, 3],\n",
       "        [0, 1, 2, 3],\n",
       "        [0, 1, 2, 3],\n",
       "        [0, 1, 2, 3]]])"
      ]
     },
     "metadata": {},
     "execution_count": 47
    }
   ],
   "source": [
    "np.mgrid[0:4, 0:4]"
   ]
  },
  {
   "cell_type": "code",
   "execution_count": 48,
   "metadata": {},
   "outputs": [
    {
     "output_type": "stream",
     "name": "stdout",
     "text": [
      "shape:(2, 5, 3)\na = \n[[[  1   1   1]\n  [  3   3   3]\n  [  5   5   5]\n  [  7   7   7]\n  [  9   9   9]]\n\n [[-12  -9  -6]\n  [-12  -9  -6]\n  [-12  -9  -6]\n  [-12  -9  -6]\n  [-12  -9  -6]]]\n"
     ]
    }
   ],
   "source": [
    "a = np.mgrid[1:11:2, -12:-3:3]\n",
    "print(\"shape:{}\".format(a.shape))\n",
    "print(\"a = \\n{}\".format(a))"
   ]
  },
  {
   "cell_type": "code",
   "execution_count": 49,
   "metadata": {},
   "outputs": [
    {
     "output_type": "stream",
     "name": "stdout",
     "text": [
      "x1 shape = (5, 3)\nx1  data is: \n [[1 1 1]\n [3 3 3]\n [5 5 5]\n [7 7 7]\n [9 9 9]]\n------------------\ny1 shape = (5, 3)\ny1  data is: \n [[-12  -9  -6]\n [-12  -9  -6]\n [-12  -9  -6]\n [-12  -9  -6]\n [-12  -9  -6]]\n"
     ]
    }
   ],
   "source": [
    "x1, y1 = np.mgrid[1:11:2, -12:-3:3]\n",
    "print(\"x1 shape = {}\".format(x1.shape))\n",
    "print(\"x1  data is: \\n {}\".format(x1))\n",
    "print(\"------------------\")\n",
    "print(\"y1 shape = {}\".format(y1.shape))\n",
    "print(\"y1  data is: \\n {}\".format(y1))"
   ]
  },
  {
   "cell_type": "code",
   "execution_count": 50,
   "metadata": {},
   "outputs": [
    {
     "output_type": "stream",
     "name": "stdout",
     "text": [
      "Shape: (2, 9, 7)\na = \n[[[0 0 0 0 0 0 0]\n  [1 1 1 1 1 1 1]\n  [2 2 2 2 2 2 2]\n  [3 3 3 3 3 3 3]\n  [4 4 4 4 4 4 4]\n  [5 5 5 5 5 5 5]\n  [6 6 6 6 6 6 6]\n  [7 7 7 7 7 7 7]\n  [8 8 8 8 8 8 8]]\n\n [[0 1 2 3 4 5 6]\n  [0 1 2 3 4 5 6]\n  [0 1 2 3 4 5 6]\n  [0 1 2 3 4 5 6]\n  [0 1 2 3 4 5 6]\n  [0 1 2 3 4 5 6]\n  [0 1 2 3 4 5 6]\n  [0 1 2 3 4 5 6]\n  [0 1 2 3 4 5 6]]]\n"
     ]
    }
   ],
   "source": [
    "a = np.mgrid[0:9, 0:7]\n",
    "print(\"Shape: {}\".format(a.shape))\n",
    "print(\"a = \\n{}\".format(a))"
   ]
  },
  {
   "cell_type": "code",
   "execution_count": 51,
   "metadata": {},
   "outputs": [
    {
     "output_type": "stream",
     "name": "stdout",
     "text": [
      "Shape: (7, 9, 2)\nb = \n[[[0 0]\n  [1 0]\n  [2 0]\n  [3 0]\n  [4 0]\n  [5 0]\n  [6 0]\n  [7 0]\n  [8 0]]\n\n [[0 1]\n  [1 1]\n  [2 1]\n  [3 1]\n  [4 1]\n  [5 1]\n  [6 1]\n  [7 1]\n  [8 1]]\n\n [[0 2]\n  [1 2]\n  [2 2]\n  [3 2]\n  [4 2]\n  [5 2]\n  [6 2]\n  [7 2]\n  [8 2]]\n\n [[0 3]\n  [1 3]\n  [2 3]\n  [3 3]\n  [4 3]\n  [5 3]\n  [6 3]\n  [7 3]\n  [8 3]]\n\n [[0 4]\n  [1 4]\n  [2 4]\n  [3 4]\n  [4 4]\n  [5 4]\n  [6 4]\n  [7 4]\n  [8 4]]\n\n [[0 5]\n  [1 5]\n  [2 5]\n  [3 5]\n  [4 5]\n  [5 5]\n  [6 5]\n  [7 5]\n  [8 5]]\n\n [[0 6]\n  [1 6]\n  [2 6]\n  [3 6]\n  [4 6]\n  [5 6]\n  [6 6]\n  [7 6]\n  [8 6]]]\n"
     ]
    }
   ],
   "source": [
    "b = np.mgrid[0:9, 0:7].T\n",
    "print(\"Shape: {}\".format(b.shape))\n",
    "print(\"b = \\n{}\".format(b))"
   ]
  },
  {
   "cell_type": "code",
   "execution_count": 52,
   "metadata": {},
   "outputs": [
    {
     "output_type": "execute_result",
     "data": {
      "text/plain": [
       "array([[0, 0],\n",
       "       [1, 0],\n",
       "       [2, 0],\n",
       "       [3, 0],\n",
       "       [4, 0],\n",
       "       [5, 0],\n",
       "       [6, 0],\n",
       "       [7, 0],\n",
       "       [8, 0],\n",
       "       [0, 1],\n",
       "       [1, 1],\n",
       "       [2, 1],\n",
       "       [3, 1],\n",
       "       [4, 1],\n",
       "       [5, 1],\n",
       "       [6, 1],\n",
       "       [7, 1],\n",
       "       [8, 1],\n",
       "       [0, 2],\n",
       "       [1, 2],\n",
       "       [2, 2],\n",
       "       [3, 2],\n",
       "       [4, 2],\n",
       "       [5, 2],\n",
       "       [6, 2],\n",
       "       [7, 2],\n",
       "       [8, 2],\n",
       "       [0, 3],\n",
       "       [1, 3],\n",
       "       [2, 3],\n",
       "       [3, 3],\n",
       "       [4, 3],\n",
       "       [5, 3],\n",
       "       [6, 3],\n",
       "       [7, 3],\n",
       "       [8, 3],\n",
       "       [0, 4],\n",
       "       [1, 4],\n",
       "       [2, 4],\n",
       "       [3, 4],\n",
       "       [4, 4],\n",
       "       [5, 4],\n",
       "       [6, 4],\n",
       "       [7, 4],\n",
       "       [8, 4],\n",
       "       [0, 5],\n",
       "       [1, 5],\n",
       "       [2, 5],\n",
       "       [3, 5],\n",
       "       [4, 5],\n",
       "       [5, 5],\n",
       "       [6, 5],\n",
       "       [7, 5],\n",
       "       [8, 5],\n",
       "       [0, 6],\n",
       "       [1, 6],\n",
       "       [2, 6],\n",
       "       [3, 6],\n",
       "       [4, 6],\n",
       "       [5, 6],\n",
       "       [6, 6],\n",
       "       [7, 6],\n",
       "       [8, 6]])"
      ]
     },
     "metadata": {},
     "execution_count": 52
    }
   ],
   "source": [
    "np.mgrid[0:9, 0:7].T.reshape(-1, 2)"
   ]
  },
  {
   "cell_type": "code",
   "execution_count": 53,
   "metadata": {},
   "outputs": [],
   "source": [
    "objp[:, :2] = np.mgrid[0:9, 0:7].T.reshape(-1, 2)"
   ]
  },
  {
   "cell_type": "code",
   "execution_count": 54,
   "metadata": {},
   "outputs": [
    {
     "output_type": "stream",
     "name": "stdout",
     "text": [
      "Objp shape=(63, 3)\nObjp after resize =\n [[0. 0. 0.]\n [1. 0. 0.]\n [2. 0. 0.]\n [3. 0. 0.]\n [4. 0. 0.]\n [5. 0. 0.]\n [6. 0. 0.]\n [7. 0. 0.]\n [8. 0. 0.]\n [0. 1. 0.]\n [1. 1. 0.]\n [2. 1. 0.]\n [3. 1. 0.]\n [4. 1. 0.]\n [5. 1. 0.]\n [6. 1. 0.]\n [7. 1. 0.]\n [8. 1. 0.]\n [0. 2. 0.]\n [1. 2. 0.]\n [2. 2. 0.]\n [3. 2. 0.]\n [4. 2. 0.]\n [5. 2. 0.]\n [6. 2. 0.]\n [7. 2. 0.]\n [8. 2. 0.]\n [0. 3. 0.]\n [1. 3. 0.]\n [2. 3. 0.]\n [3. 3. 0.]\n [4. 3. 0.]\n [5. 3. 0.]\n [6. 3. 0.]\n [7. 3. 0.]\n [8. 3. 0.]\n [0. 4. 0.]\n [1. 4. 0.]\n [2. 4. 0.]\n [3. 4. 0.]\n [4. 4. 0.]\n [5. 4. 0.]\n [6. 4. 0.]\n [7. 4. 0.]\n [8. 4. 0.]\n [0. 5. 0.]\n [1. 5. 0.]\n [2. 5. 0.]\n [3. 5. 0.]\n [4. 5. 0.]\n [5. 5. 0.]\n [6. 5. 0.]\n [7. 5. 0.]\n [8. 5. 0.]\n [0. 6. 0.]\n [1. 6. 0.]\n [2. 6. 0.]\n [3. 6. 0.]\n [4. 6. 0.]\n [5. 6. 0.]\n [6. 6. 0.]\n [7. 6. 0.]\n [8. 6. 0.]]\n"
     ]
    }
   ],
   "source": [
    "print(\"Objp shape={}\".format(objp.shape))\n",
    "print(\"Objp after resize =\\n {}\".format(objp))"
   ]
  },
  {
   "cell_type": "markdown",
   "metadata": {},
   "source": [
    "### Image test"
   ]
  },
  {
   "cell_type": "code",
   "execution_count": 55,
   "metadata": {},
   "outputs": [],
   "source": [
    "import cv2\n",
    "# Term Criteria\n",
    "criteria = (cv2.TERM_CRITERIA_EPS + cv2.TERM_CRITERIA_MAX_ITER, 30, 0.001)\n",
    "objpoints = []  # 3d point in the real world space\n",
    "imgpoints = []  # 2d point in the image plane\n",
    "img = cv2.imread(\"./dataLogiWebcam/calib_img0.jpg\")\n",
    "gray = cv2.cvtColor(img, cv2.COLOR_BGR2GRAY)\n",
    "# Find the chess board corners\n",
    "ret, corners = cv2.findChessboardCorners(gray, (9, 7), None)\n",
    "objpoints.append(objp)\n",
    "cv2.cornerSubPix(gray, corners, (5, 5), (-1, -1), criteria)\n",
    "imgpoints.append(corners)"
   ]
  },
  {
   "cell_type": "code",
   "execution_count": 56,
   "metadata": {},
   "outputs": [
    {
     "output_type": "stream",
     "name": "stdout",
     "text": [
      "objpoints shape=(1, 63, 3)\n\nimgpoints shape=(1, 63, 1, 2)\n\n"
     ]
    }
   ],
   "source": [
    "print(\"objpoints shape={}\\n\".format(np.array(objpoints).shape))\n",
    "print(\"imgpoints shape={}\\n\".format(np.array(imgpoints).shape))"
   ]
  },
  {
   "cell_type": "code",
   "execution_count": 57,
   "metadata": {},
   "outputs": [],
   "source": [
    "# Calibration\n",
    "ret, mtx, dist, rvecs, tvecs = cv2.calibrateCamera(\n",
    "    objpoints, imgpoints, gray.shape[::-1], None, None)"
   ]
  },
  {
   "cell_type": "code",
   "execution_count": 58,
   "metadata": {},
   "outputs": [],
   "source": [
    "npz_data = np.load(\"./MyWebcamCalibData.npz\")"
   ]
  },
  {
   "cell_type": "code",
   "execution_count": 59,
   "metadata": {},
   "outputs": [
    {
     "output_type": "execute_result",
     "data": {
      "text/plain": [
       "['mtx', 'dist', 'rvecs', 'tvecs']"
      ]
     },
     "metadata": {},
     "execution_count": 59
    }
   ],
   "source": [
    "npz_data.files"
   ]
  },
  {
   "cell_type": "code",
   "execution_count": 60,
   "metadata": {},
   "outputs": [
    {
     "output_type": "stream",
     "name": "stdout",
     "text": [
      "mtx\n\t[[569.33130534   0.         326.86474954]\n [  0.         567.71501546 238.67073028]\n [  0.           0.           1.        ]]\ndist\n\t[[-5.06604551e-02  9.12567910e-01 -3.86302767e-04 -2.80605520e-04\n  -2.70111897e+00]]\nrvecs\n\t[[[-0.08342793]\n  [ 0.21233694]\n  [ 0.66736743]]\n\n [[ 0.61947451]\n  [ 0.09555203]\n  [ 2.97933884]]\n\n [[-0.21751133]\n  [ 0.29756352]\n  [ 3.07020654]]\n\n [[ 0.06791767]\n  [ 0.11236676]\n  [ 3.08499725]]\n\n [[-0.24003147]\n  [-0.71905251]\n  [-0.06000225]]\n\n [[ 0.14394083]\n  [ 0.24275739]\n  [ 2.63579615]]\n\n [[-0.08192002]\n  [ 0.17888293]\n  [ 3.05737778]]\n\n [[ 0.23985707]\n  [ 0.30791281]\n  [ 1.55340107]]\n\n [[-0.11189545]\n  [ 0.17001606]\n  [ 1.84109176]]]\ntvecs\n\t[[[-4.71381111]\n  [-4.39357755]\n  [21.94763556]]\n\n [[ 2.67770409]\n  [ 1.55031159]\n  [18.09568139]]\n\n [[ 2.89412622]\n  [ 2.09624724]\n  [19.06185863]]\n\n [[ 1.83791554]\n  [ 3.63321059]\n  [18.3164755 ]]\n\n [[-6.88108504]\n  [-2.70754815]\n  [16.38343767]]\n\n [[ 1.80187791]\n  [ 0.73229979]\n  [18.48862616]]\n\n [[ 5.26001791]\n  [ 1.32941768]\n  [20.25660884]]\n\n [[ 2.23756909]\n  [-3.21007671]\n  [19.83480488]]\n\n [[ 0.78378121]\n  [-3.97016369]\n  [21.66898591]]]\n"
     ]
    }
   ],
   "source": [
    "for i in npz_data.files:\n",
    "    print(\"{}\\n\\t{}\".format(i,npz_data[i]))"
   ]
  },
  {
   "cell_type": "markdown",
   "metadata": {},
   "source": [
    "## Use of _cv2.Rodrigues()_"
   ]
  },
  {
   "cell_type": "code",
   "execution_count": 61,
   "metadata": {},
   "outputs": [],
   "source": [
    "rvec = np.array([[-0.03067108],\n",
    " [ 0.69098701],\n",
    " [ 2.99420159]])"
   ]
  },
  {
   "cell_type": "code",
   "execution_count": 62,
   "metadata": {},
   "outputs": [
    {
     "output_type": "execute_result",
     "data": {
      "text/plain": [
       "array([[-0.03067108],\n",
       "       [ 0.69098701],\n",
       "       [ 2.99420159]])"
      ]
     },
     "metadata": {},
     "execution_count": 62
    }
   ],
   "source": [
    "rvec"
   ]
  },
  {
   "cell_type": "code",
   "execution_count": 63,
   "metadata": {},
   "outputs": [
    {
     "output_type": "execute_result",
     "data": {
      "text/plain": [
       "(3, 1)"
      ]
     },
     "metadata": {},
     "execution_count": 63
    }
   ],
   "source": [
    "rvec.shape"
   ]
  },
  {
   "cell_type": "code",
   "execution_count": 64,
   "metadata": {},
   "outputs": [
    {
     "output_type": "execute_result",
     "data": {
      "text/plain": [
       "dtype('float64')"
      ]
     },
     "metadata": {},
     "execution_count": 64
    }
   ],
   "source": [
    "rvec.dtype"
   ]
  },
  {
   "cell_type": "code",
   "execution_count": 65,
   "metadata": {},
   "outputs": [],
   "source": [
    "rotation_matrix = cv2.Rodrigues(np.float32(rvecs))[0]"
   ]
  },
  {
   "cell_type": "code",
   "execution_count": 66,
   "metadata": {},
   "outputs": [
    {
     "output_type": "execute_result",
     "data": {
      "text/plain": [
       "array([[ 0.99167675, -0.10235471,  0.07810739],\n",
       "       [ 0.07656959,  0.95654786,  0.28134197],\n",
       "       [-0.10351013, -0.27301964,  0.9564235 ]], dtype=float32)"
      ]
     },
     "metadata": {},
     "execution_count": 66
    }
   ],
   "source": [
    "rotation_matrix"
   ]
  },
  {
   "cell_type": "code",
   "execution_count": 67,
   "metadata": {},
   "outputs": [
    {
     "output_type": "stream",
     "name": "stdout",
     "text": [
      "(3, 3)\n"
     ]
    }
   ],
   "source": [
    "rotation_matrix1, jacob = cv2.Rodrigues(np.float32(rvecs))\n",
    "print(rotation_matrix1.shape)"
   ]
  },
  {
   "cell_type": "code",
   "execution_count": 68,
   "metadata": {},
   "outputs": [
    {
     "output_type": "execute_result",
     "data": {
      "text/plain": [
       "array([[ 0.99167675, -0.10235471,  0.07810739],\n",
       "       [ 0.07656959,  0.95654786,  0.28134197],\n",
       "       [-0.10351013, -0.27301964,  0.9564235 ]], dtype=float32)"
      ]
     },
     "metadata": {},
     "execution_count": 68
    }
   ],
   "source": [
    "rotation_matrix1"
   ]
  },
  {
   "cell_type": "code",
   "execution_count": 69,
   "metadata": {},
   "outputs": [
    {
     "output_type": "execute_result",
     "data": {
      "text/plain": [
       "array([[-3.9136509e-04,  3.6711410e-02,  5.3076841e-02,  5.3619348e-02,\n",
       "         2.7737942e-01, -9.5766830e-01,  3.5914399e-02,  9.5805961e-01,\n",
       "         2.7737358e-01],\n",
       "       [-9.1414973e-02, -1.3674302e-01,  9.8144126e-01, -1.4228234e-01,\n",
       "         6.6936703e-04,  3.6447525e-02, -9.8104990e-01,  5.3609964e-02,\n",
       "        -9.0871908e-02],\n",
       "       [-9.0059377e-02, -9.8113269e-01, -1.4228818e-01,  9.8152399e-01,\n",
       "        -8.9526251e-02,  3.7254475e-02, -1.3674887e-01,  5.4162413e-02,\n",
       "         6.6132797e-04]], dtype=float32)"
      ]
     },
     "metadata": {},
     "execution_count": 69
    }
   ],
   "source": [
    "jacob"
   ]
  },
  {
   "cell_type": "code",
   "execution_count": 70,
   "metadata": {},
   "outputs": [
    {
     "output_type": "execute_result",
     "data": {
      "text/plain": [
       "(3, 9)"
      ]
     },
     "metadata": {},
     "execution_count": 70
    }
   ],
   "source": [
    "jacob.shape"
   ]
  },
  {
   "cell_type": "code",
   "execution_count": 71,
   "metadata": {},
   "outputs": [
    {
     "output_type": "stream",
     "name": "stdout",
     "text": [
      "(3, 1)\n"
     ]
    }
   ],
   "source": [
    "tvec = np.array([[ 4.13072525],\n",
    "                [ 0.9841125 ],\n",
    "                [21.11944857]], dtype=np.float32)\n",
    "print(tvec.shape)"
   ]
  },
  {
   "cell_type": "code",
   "execution_count": 72,
   "metadata": {},
   "outputs": [],
   "source": [
    "camera_pose = np.concatenate(\n",
    "                (rotation_matrix1, tvec), axis=1\n",
    "            )"
   ]
  },
  {
   "cell_type": "code",
   "execution_count": 73,
   "metadata": {},
   "outputs": [
    {
     "output_type": "stream",
     "name": "stdout",
     "text": [
      "camera pose using concat shape: (3, 4)\ncamera pose using concat matrix val: \n[[ 0.99167675 -0.10235471  0.07810739  4.1307254 ]\n [ 0.07656959  0.95654786  0.28134197  0.9841125 ]\n [-0.10351013 -0.27301964  0.9564235  21.119448  ]]\n"
     ]
    }
   ],
   "source": [
    "print(\"camera pose using concat shape: {}\\ncamera pose using concat matrix val: \\n{}\".format(camera_pose.shape, camera_pose))"
   ]
  },
  {
   "cell_type": "code",
   "execution_count": 74,
   "metadata": {},
   "outputs": [],
   "source": [
    "camera_pose1 = np.hstack((rotation_matrix1, tvec))"
   ]
  },
  {
   "cell_type": "code",
   "execution_count": 75,
   "metadata": {},
   "outputs": [
    {
     "output_type": "stream",
     "name": "stdout",
     "text": [
      "camera pose hstack shape: (3, 4)\ncamera_pose_hstack matrix val: \n[[ 0.99167675 -0.10235471  0.07810739  4.1307254 ]\n [ 0.07656959  0.95654786  0.28134197  0.9841125 ]\n [-0.10351013 -0.27301964  0.9564235  21.119448  ]]\n"
     ]
    }
   ],
   "source": [
    "print(\"camera pose hstack shape: {}\\ncamera_pose_hstack matrix val: \\n{}\".format(camera_pose1.shape, camera_pose1))"
   ]
  }
 ],
 "metadata": {
  "language_info": {
   "codemirror_mode": {
    "name": "ipython",
    "version": 3
   },
   "file_extension": ".py",
   "mimetype": "text/x-python",
   "name": "python",
   "nbconvert_exporter": "python",
   "pygments_lexer": "ipython3",
   "version": "3.8.5"
  },
  "orig_nbformat": 2,
  "kernelspec": {
   "name": "python3",
   "display_name": "Python 3.8.5 64-bit ('tf': conda)"
  },
  "metadata": {
   "interpreter": {
    "hash": "73f5672a043c7ab1de41dd3c8e36f8f25d89d07f9bb147d0ace14f6123403881"
   }
  },
  "interpreter": {
   "hash": "73f5672a043c7ab1de41dd3c8e36f8f25d89d07f9bb147d0ace14f6123403881"
  }
 },
 "nbformat": 4,
 "nbformat_minor": 2
}